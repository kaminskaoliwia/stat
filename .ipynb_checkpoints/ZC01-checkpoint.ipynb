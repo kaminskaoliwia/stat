{
 "cells": [
  {
   "cell_type": "markdown",
   "id": "d60cd7e5",
   "metadata": {
    "deletable": false,
    "editable": false,
    "nbgrader": {
     "cell_type": "markdown",
     "checksum": "195534d4a61a341068cf0f6fbe9188c7",
     "grade": false,
     "grade_id": "cell-fcd2666579131b77",
     "locked": true,
     "schema_version": 3,
     "solution": false,
     "task": false
    },
    "tags": []
   },
   "source": [
    "# Statystyka matematyczna - ćwiczenia laboratoryjne\n",
    "\n",
    "Ten notatnik ma charakter wyłącznie ćwiczeniowy, nie podlega ocenie i nie zalicza się do zestawów zadań, na podstawie których odbywa się zaliczenie przedmiotu.\n",
    "\n",
    "Uwagi i wytyczne ogólne dotyczące uzupełniania notatnika:\n",
    "- Podczas wykonywania zadań należy korzystać wyłącznie z pakietów zaimportowanych na początku notatnika oraz z pakietów wchodzących w skład standardowej biblioteki Pythona, które można zaimportować samodzielnie we wskazanej komórce notatnika.\n",
    "- Swoje rozwiązania należy wprowadzać wyłącznie w miejce następujących fragmentów kodu:<br/> `# YOUR CODE HERE`<br/> `raise NotImplementedError()`<br/> \n",
    "a odpowiedzi tekstowe w komórkach oznaczonych hasłem:<br/> \n",
    "`YOUR ANSWER HERE`<br/> \n",
    "Nie należy w żaden sposób modyfikować pozostałych fragmentów kodu oraz innych elementów notatnika, w szczególności dodawać lub usuwać komórek oraz zmieniać nazwy pliku.\n",
    "- Otrzymywane wyniki i odpowiedzi mają być rezultatem wykonania napisanego kodu.\n",
    "- Zadanie należy wykonać w taki sposób, aby podczas wykonywania kodu nie zostały wyświetlone żadne ostrzeżenia.\n",
    "- Zawarte w notatniku automatyczne testy mają charakter poglądowy. Dotyczą one wybranych aspektów zadań i mają za zadanie wyłapać podstawowe błędy. Przejście wszystkich testów nie oznacza, że zadanie jest wykonane w całości poprawnie.\n",
    "\n",
    "Uwagi i wytyczne ogólne dotyczące wizualizacji wyników:\n",
    "- Wszystkie wykresy powinny być wykonane w jednolitym, przejrzystym i czytelnym stylu, posiadać odpowiednio dobrane proporcje i zakresy wartości osi.\n",
    "- Wykresy oraz ich osie powinny mieć nadane tytuły. Jeżeli w obrębie figury znajduje się więcej niż jeden wykres to figura również powinna mieć nadany tytuł. \n",
    "- Figury powinny mieć ustawione białe tło, tak, aby niezależnie od ustawień notatnika wszystkie elementy wykresów były dobrze widoczne (domyślnie tło jest przeźroczyste co może powodować problemy w notatnikach z ustawionym ciemnym tłem).\n",
    "- Rozmiar poziomy figur nie powinien przekraczać 20 cali."
   ]
  },
  {
   "cell_type": "markdown",
   "id": "b18d7703",
   "metadata": {
    "deletable": false,
    "editable": false,
    "nbgrader": {
     "cell_type": "markdown",
     "checksum": "eddc8826810e4a6f7bf68319da334bd9",
     "grade": false,
     "grade_id": "cell-109006d425e5cf83",
     "locked": true,
     "schema_version": 3,
     "solution": false,
     "task": false
    },
    "tags": []
   },
   "source": [
    "---"
   ]
  },
  {
   "cell_type": "markdown",
   "id": "5782cd2b-89da-45d2-98fd-6f57464ac652",
   "metadata": {
    "deletable": false,
    "editable": false,
    "nbgrader": {
     "cell_type": "markdown",
     "checksum": "6b7187cafc244132105bd92df38e3e10",
     "grade": false,
     "grade_id": "cell-278ea353ab5e28cd",
     "locked": true,
     "schema_version": 3,
     "solution": false,
     "task": false
    },
    "tags": []
   },
   "source": [
    "# Zestaw ćwiczeniowy 1: Podstawy języka programowania Python"
   ]
  },
  {
   "cell_type": "code",
   "execution_count": 1,
   "id": "3053d0fe-2a1f-44c5-b1e9-4ee5380912fb",
   "metadata": {
    "deletable": false,
    "editable": false,
    "nbgrader": {
     "cell_type": "code",
     "checksum": "f41dad2f520e0190350083112bafae48",
     "grade": false,
     "grade_id": "cell-48c28a59f9fc3802",
     "locked": true,
     "schema_version": 3,
     "solution": false,
     "task": false
    },
    "tags": []
   },
   "outputs": [],
   "source": [
    "import math"
   ]
  },
  {
   "cell_type": "code",
   "execution_count": 2,
   "id": "23d7609a-7222-46af-b139-019ae6bd68a5",
   "metadata": {},
   "outputs": [],
   "source": [
    "# Miejsce do importu pakietów wchodzących w skład standardowej biblioteki Pythona oraz ustawienie opcji wykorzystywanych pakietów"
   ]
  },
  {
   "cell_type": "markdown",
   "id": "78676f68-ac94-4ddd-b282-797432ccefc7",
   "metadata": {
    "deletable": false,
    "editable": false,
    "nbgrader": {
     "cell_type": "markdown",
     "checksum": "889419d665f85b8f85970faa6ccf0b4b",
     "grade": false,
     "grade_id": "cell-345956b19e717ff6",
     "locked": true,
     "schema_version": 3,
     "solution": false,
     "task": false
    },
    "tags": []
   },
   "source": [
    "## Zadanie 1\n",
    "a) Zdefiniuj zmienną `r` o wartości 5."
   ]
  },
  {
   "cell_type": "code",
   "execution_count": 3,
   "id": "86552b52-2c51-4bcb-9568-76e223ae4c52",
   "metadata": {
    "deletable": false,
    "nbgrader": {
     "cell_type": "code",
     "checksum": "0169581a694424f83917c8d848f057f9",
     "grade": false,
     "grade_id": "cell-3fbe4169ea4f370e",
     "locked": false,
     "schema_version": 3,
     "solution": true,
     "task": false
    },
    "tags": []
   },
   "outputs": [],
   "source": [
    "r = 5"
   ]
  },
  {
   "cell_type": "code",
   "execution_count": 4,
   "id": "119fcf9c-547b-4dd0-9b9e-4fe001e00527",
   "metadata": {
    "deletable": false,
    "editable": false,
    "nbgrader": {
     "cell_type": "code",
     "checksum": "538b595d6d58f209dd2448947d511a92",
     "grade": true,
     "grade_id": "cell-aaa93eacb376c61e",
     "locked": true,
     "points": 0,
     "schema_version": 3,
     "solution": false,
     "task": false
    },
    "tags": []
   },
   "outputs": [],
   "source": [
    "# Komórka testowa\n",
    "assert math.isclose(r, 5)"
   ]
  },
  {
   "cell_type": "markdown",
   "id": "5085755f-e080-4b33-9ef1-76117acc0e32",
   "metadata": {
    "deletable": false,
    "editable": false,
    "nbgrader": {
     "cell_type": "markdown",
     "checksum": "1d2f8af9315dc63649cf133efab17029",
     "grade": false,
     "grade_id": "cell-44ecc33be421f187",
     "locked": true,
     "schema_version": 3,
     "solution": false,
     "task": false
    },
    "tags": []
   },
   "source": [
    "b) Zdefiniuj zmienną `area`, której wartość jest równa polu koła o promieniu zdefiniowanym przez wartość zmiennej `r`. Przyjmij, że wartość $\\Pi$ wynosi 3.14."
   ]
  },
  {
   "cell_type": "code",
   "execution_count": 5,
   "id": "0daf0240-e39f-41b8-a592-74b738ec65ba",
   "metadata": {
    "deletable": false,
    "nbgrader": {
     "cell_type": "code",
     "checksum": "e59fb46c5ae109db0efe037c49fe7c6b",
     "grade": false,
     "grade_id": "cell-ced33281ac7deaaf",
     "locked": false,
     "schema_version": 3,
     "solution": true,
     "task": false
    },
    "tags": []
   },
   "outputs": [],
   "source": [
    "area = 3.14*r*r"
   ]
  },
  {
   "cell_type": "code",
   "execution_count": 6,
   "id": "a45a1e60-3c50-4b3b-a276-a0b0dd2054b2",
   "metadata": {
    "deletable": false,
    "editable": false,
    "nbgrader": {
     "cell_type": "code",
     "checksum": "71828237b84cae1fcccbb7b4302b814e",
     "grade": true,
     "grade_id": "cell-3d497e1d5cb3666d",
     "locked": true,
     "points": 0,
     "schema_version": 3,
     "solution": false,
     "task": false
    },
    "tags": []
   },
   "outputs": [],
   "source": [
    "# Komórka testowa\n",
    "assert math.isclose(area, 78.5)"
   ]
  },
  {
   "cell_type": "markdown",
   "id": "b73db741-36ad-4295-b7b4-cf2a6041445e",
   "metadata": {
    "deletable": false,
    "editable": false,
    "nbgrader": {
     "cell_type": "markdown",
     "checksum": "791fd1e7d3b6fa9a15ddcf9377a13e0d",
     "grade": false,
     "grade_id": "cell-46cf5d18db7b9173",
     "locked": true,
     "schema_version": 3,
     "solution": false,
     "task": false
    },
    "tags": []
   },
   "source": [
    "c) Korzystając z funkcji `print()` i `format()` wyświetl odpowiedź \"Pole koła o promieniu X cm wynosi Y cm^2.\", gdzie X i Y to odpowiednio wartości zmiennych `r` i `area` podane z dokładnością do drugiego miejsca po przecinku."
   ]
  },
  {
   "cell_type": "code",
   "execution_count": 7,
   "id": "f672ca7f-d189-482b-945b-b24e91feef50",
   "metadata": {
    "deletable": false,
    "nbgrader": {
     "cell_type": "code",
     "checksum": "78f0ae5142a2b38513b0770870ace1d9",
     "grade": true,
     "grade_id": "cell-642075aa25cb3bea",
     "locked": false,
     "points": 0,
     "schema_version": 3,
     "solution": true,
     "task": false
    },
    "tags": []
   },
   "outputs": [
    {
     "name": "stdout",
     "output_type": "stream",
     "text": [
      "Pole koła o promieniu 5.00 cm wynosi 78.50 cm^2.\n"
     ]
    }
   ],
   "source": [
    "tekst1 = \"Pole koła o promieniu {:.2f} cm wynosi {:.2f} cm^2.\".format(r, area)\n",
    "print(tekst1)"
   ]
  },
  {
   "cell_type": "markdown",
   "id": "22f7c454-1568-4df7-813f-251ba0a82873",
   "metadata": {
    "deletable": false,
    "editable": false,
    "nbgrader": {
     "cell_type": "markdown",
     "checksum": "2429cd3dcd8e9ba20a94a9510562b4af",
     "grade": false,
     "grade_id": "cell-3947e65c78b2d87a",
     "locked": true,
     "schema_version": 3,
     "solution": false,
     "task": false
    },
    "tags": []
   },
   "source": [
    "## Zadanie 2\n",
    "Zmienna `lorem_ipsum` zawiera przykładowy fragment tekstu."
   ]
  },
  {
   "cell_type": "code",
   "execution_count": 8,
   "id": "37d079ee-b32d-473a-b41b-e591fb9b2e23",
   "metadata": {
    "deletable": false,
    "editable": false,
    "nbgrader": {
     "cell_type": "code",
     "checksum": "69316bf8fd02ec18cf95cd2cf047df43",
     "grade": false,
     "grade_id": "cell-87136695abd8492b",
     "locked": true,
     "schema_version": 3,
     "solution": false,
     "task": false
    },
    "tags": []
   },
   "outputs": [],
   "source": [
    "lorem_ipsum = \"Lorem ipsum dolor sit amet, consectetur adipiscing elit. Suspendisse euismod augue in pretium faucibus. Curabitur ultrices luctus dui, nec malesuada urna viverra vitae.\""
   ]
  },
  {
   "cell_type": "markdown",
   "id": "04e13d17-7a0f-4c08-af18-d1b0f7807b59",
   "metadata": {
    "deletable": false,
    "editable": false,
    "nbgrader": {
     "cell_type": "markdown",
     "checksum": "be05089b1b235b737d6e118155890539",
     "grade": false,
     "grade_id": "cell-3c94db53d0111c44",
     "locked": true,
     "schema_version": 3,
     "solution": false,
     "task": false
    },
    "tags": []
   },
   "source": [
    "a) Korzystając z funkcji `split()` zdefiniuj zmienną `words`, której wartość odpowiada liczbie słów znajdujących się w obrębie fragmentu tekstu."
   ]
  },
  {
   "cell_type": "code",
   "execution_count": 9,
   "id": "a59c8744-a12a-4790-ad17-eba026739cf8",
   "metadata": {
    "deletable": false,
    "nbgrader": {
     "cell_type": "code",
     "checksum": "81916b7c891367bfb5d4a624fdff4058",
     "grade": false,
     "grade_id": "cell-1a0f907371060468",
     "locked": false,
     "schema_version": 3,
     "solution": true,
     "task": false
    },
    "tags": []
   },
   "outputs": [],
   "source": [
    "words = len(lorem_ipsum.split())"
   ]
  },
  {
   "cell_type": "code",
   "execution_count": 10,
   "id": "c4939c88-0dd2-42f8-b518-e62b44bb0350",
   "metadata": {
    "deletable": false,
    "editable": false,
    "nbgrader": {
     "cell_type": "code",
     "checksum": "56ebdeac6d271745822809aa4d168cbe",
     "grade": true,
     "grade_id": "cell-a3e92df22ec6a471",
     "locked": true,
     "points": 0,
     "schema_version": 3,
     "solution": false,
     "task": false
    },
    "tags": []
   },
   "outputs": [],
   "source": [
    "# Komórka testowa\n",
    "assert math.isclose(words, 23)"
   ]
  },
  {
   "cell_type": "markdown",
   "id": "f6117001-ff7e-451f-bd59-a766db4216d1",
   "metadata": {
    "deletable": false,
    "editable": false,
    "nbgrader": {
     "cell_type": "markdown",
     "checksum": "85555736d694f965a2d7973e309cb145",
     "grade": false,
     "grade_id": "cell-d7ffe47ce2d3de3d",
     "locked": true,
     "schema_version": 3,
     "solution": false,
     "task": false
    },
    "tags": []
   },
   "source": [
    "b) Korzystając z funkcji `count()`zdefiniuj zmienną `sentences`, której wartość odpowiada liczbie zdań znajdujących się w obrębie fragmentu tekstu."
   ]
  },
  {
   "cell_type": "code",
   "execution_count": 11,
   "id": "87209876-70d8-44fb-adb9-b69b826f4048",
   "metadata": {
    "deletable": false,
    "nbgrader": {
     "cell_type": "code",
     "checksum": "65c8fa8171ee5f4d59ed36a8c3ec324b",
     "grade": false,
     "grade_id": "cell-aa9384ec95da0ed6",
     "locked": false,
     "schema_version": 3,
     "solution": true,
     "task": false
    },
    "tags": []
   },
   "outputs": [],
   "source": [
    "sentences = lorem_ipsum.count(\".\")"
   ]
  },
  {
   "cell_type": "code",
   "execution_count": 12,
   "id": "e26047a1-5af1-47fa-bc7e-462662850253",
   "metadata": {
    "deletable": false,
    "editable": false,
    "nbgrader": {
     "cell_type": "code",
     "checksum": "d37843d4eb895d3e4c2332c6310147b6",
     "grade": true,
     "grade_id": "cell-e7b22292c91e6c78",
     "locked": true,
     "points": 0,
     "schema_version": 3,
     "solution": false,
     "task": false
    },
    "tags": []
   },
   "outputs": [],
   "source": [
    "# Komórka testowa\n",
    "assert math.isclose(sentences, 3)"
   ]
  },
  {
   "cell_type": "markdown",
   "id": "6a4427dc-9bff-451e-a73d-bfbfccac408e",
   "metadata": {
    "deletable": false,
    "editable": false,
    "nbgrader": {
     "cell_type": "markdown",
     "checksum": "04d96cf4431a40c22d86d331f6b67135",
     "grade": false,
     "grade_id": "cell-e7f3317261016201",
     "locked": true,
     "schema_version": 3,
     "solution": false,
     "task": false
    },
    "tags": []
   },
   "source": [
    "## Zadanie 3\n",
    "\n",
    "a) Zdefiniuj zmienną `ls` jako listę składającą się z następujących elementów: 1, 7.8, d, 9, e, 2, 3.162, 7, 4.55, f, 0, 2.5."
   ]
  },
  {
   "cell_type": "code",
   "execution_count": 16,
   "id": "d848190f-123b-4ea3-8f57-573342195392",
   "metadata": {
    "deletable": false,
    "nbgrader": {
     "cell_type": "code",
     "checksum": "1995c4bb1849cfa36be347c847acd98a",
     "grade": false,
     "grade_id": "cell-0c839b23f49361b7",
     "locked": false,
     "schema_version": 3,
     "solution": true,
     "task": false
    },
    "tags": []
   },
   "outputs": [],
   "source": [
    "ls = [1, 7.8, \"d\", 9, \"e\", 2, 3.162, 7, 4.55, \"f\", 0, 2.5]"
   ]
  },
  {
   "cell_type": "code",
   "execution_count": 17,
   "id": "f601143c-accf-41cd-91f3-9f9fbf9d553c",
   "metadata": {
    "deletable": false,
    "editable": false,
    "nbgrader": {
     "cell_type": "code",
     "checksum": "4bbcefa8c617040f14b55eba504da139",
     "grade": true,
     "grade_id": "cell-4fb4eb80ae8b175b",
     "locked": true,
     "points": 0,
     "schema_version": 3,
     "solution": false,
     "task": false
    },
    "tags": []
   },
   "outputs": [],
   "source": [
    "# Komórka testowa\n",
    "assert len(ls) == 12\n",
    "assert math.isclose(ls[1], 7.8)\n",
    "assert ls[4] == \"e\"\n",
    "assert math.isclose(ls[6], 3.162)\n",
    "assert ls[-3] == \"f\""
   ]
  },
  {
   "cell_type": "markdown",
   "id": "a4b9ec92-4eea-40b7-b65d-eb58b7004123",
   "metadata": {
    "deletable": false,
    "editable": false,
    "nbgrader": {
     "cell_type": "markdown",
     "checksum": "24c1de1d5a233b431a4fb9b4b86ed674",
     "grade": false,
     "grade_id": "cell-dc2c0d7ea62e6d6c",
     "locked": true,
     "schema_version": 3,
     "solution": false,
     "task": false
    },
    "tags": []
   },
   "source": [
    "b) Korzystając z pętli `for` i `if` oblicz sumę wszystkich liczb wchodzących w skład listy `ls`. Wynik zapisz w zmiennej o nazwie `sum_of_numbers`."
   ]
  },
  {
   "cell_type": "code",
   "execution_count": 18,
   "id": "6f2249f8-b75a-4cd4-9963-84e87ab32122",
   "metadata": {
    "deletable": false,
    "nbgrader": {
     "cell_type": "code",
     "checksum": "e3a20dc8733cef187502173f81eda2c2",
     "grade": false,
     "grade_id": "cell-bf4cffba40707dca",
     "locked": false,
     "schema_version": 3,
     "solution": true,
     "task": false
    },
    "tags": []
   },
   "outputs": [],
   "source": [
    "sum_of_numbers = 0\n",
    "for element in ls:\n",
    "    if isinstance(element, (int, float)):\n",
    "        sum_of_numbers += element"
   ]
  },
  {
   "cell_type": "code",
   "execution_count": 19,
   "id": "96c0b19e-143c-4803-8ee8-97776c097e6e",
   "metadata": {
    "deletable": false,
    "editable": false,
    "nbgrader": {
     "cell_type": "code",
     "checksum": "579c47c9c63518c373077405be529d33",
     "grade": true,
     "grade_id": "cell-edab4620d44e6921",
     "locked": true,
     "points": 0,
     "schema_version": 3,
     "solution": false,
     "task": false
    },
    "tags": []
   },
   "outputs": [],
   "source": [
    "# Komórka testowa\n",
    "assert math.isclose(sum_of_numbers, 37.012)"
   ]
  },
  {
   "cell_type": "markdown",
   "id": "4551f407-b776-46d5-9cf7-2766e6e6d43b",
   "metadata": {
    "deletable": false,
    "editable": false,
    "nbgrader": {
     "cell_type": "markdown",
     "checksum": "e7d85b654720affe6a5e0cea8c4f5bfb",
     "grade": false,
     "grade_id": "cell-f74f8f3a29566e34",
     "locked": true,
     "schema_version": 3,
     "solution": false,
     "task": false
    },
    "tags": []
   },
   "source": [
    "c) Korzystając z funkcji `print()` i `format()` wyświetl odpowiedź \"Suma liczb wchodzących w skład listy wynosi X\", gdzie X to obliczona wartość sumy liczb podana z dokładnością do trzeciego miejsca po przecinku."
   ]
  },
  {
   "cell_type": "code",
   "execution_count": 21,
   "id": "01be756d-4906-4a04-99e8-87eda0a9cb85",
   "metadata": {
    "deletable": false,
    "nbgrader": {
     "cell_type": "code",
     "checksum": "f0cdb57704a12e0f2a51b3bc5d5d1308",
     "grade": true,
     "grade_id": "cell-62ecc4b487b7e3a3",
     "locked": false,
     "points": 0,
     "schema_version": 3,
     "solution": true,
     "task": false
    },
    "tags": []
   },
   "outputs": [
    {
     "name": "stdout",
     "output_type": "stream",
     "text": [
      "Suma liczb wchodzących w skład listy wynosi 37.012\n"
     ]
    }
   ],
   "source": [
    "tekst = \"Suma liczb wchodzących w skład listy wynosi {:.3f}\".format(sum_of_numbers)\n",
    "print(tekst)"
   ]
  },
  {
   "cell_type": "markdown",
   "id": "32b758a9-ad21-4248-ac82-693700c49b1a",
   "metadata": {
    "deletable": false,
    "editable": false,
    "nbgrader": {
     "cell_type": "markdown",
     "checksum": "387a488db0cece9c5f7bd2ac18e60a31",
     "grade": false,
     "grade_id": "cell-13383d4dbf5ef936",
     "locked": true,
     "schema_version": 3,
     "solution": false,
     "task": false
    },
    "tags": []
   },
   "source": [
    "## Zadanie 4\n",
    "\n",
    "a) Zdefiniuj zmienną `shopping_list` jako słownik zawierający w sobie następującą listę zakupów: \\\n",
    "Jabłko: 5 \\\n",
    "Ogórek: 2 \\\n",
    "Cebula: 3 \\\n",
    "Sałata: 1 \\\n",
    "Gruszka: 7 \\\n",
    "Ziemniak: 15 \\\n",
    "Arbuz: 1"
   ]
  },
  {
   "cell_type": "code",
   "execution_count": 22,
   "id": "ded6f85d-f471-466c-9bd7-2854f0a85cf0",
   "metadata": {
    "deletable": false,
    "nbgrader": {
     "cell_type": "code",
     "checksum": "ca9ecf0377bdc534bba7083d3eabcdb1",
     "grade": false,
     "grade_id": "cell-586160888d3f492c",
     "locked": false,
     "schema_version": 3,
     "solution": true,
     "task": false
    },
    "tags": []
   },
   "outputs": [],
   "source": [
    "shopping_list = {'Jabłko': 5,\n",
    "'Ogórek': 2,\n",
    "'Cebula': 3,\n",
    "'Sałata': 1,\n",
    "'Gruszka': 7,\n",
    "'Ziemniak': 15,\n",
    "'Arbuz': 1}"
   ]
  },
  {
   "cell_type": "code",
   "execution_count": 23,
   "id": "68528b27-3b70-4d38-8af9-e564dd87bdac",
   "metadata": {
    "deletable": false,
    "editable": false,
    "nbgrader": {
     "cell_type": "code",
     "checksum": "8c385674b5ddaaeb47d93995f9b9009c",
     "grade": true,
     "grade_id": "cell-1adf73603953bffb",
     "locked": true,
     "points": 0,
     "schema_version": 3,
     "solution": false,
     "task": false
    },
    "tags": []
   },
   "outputs": [],
   "source": [
    "# Komórka testowa\n",
    "values = [5, 2, 3, 1, 7, 15, 1]\n",
    "keys = ['Jabłko', 'Ogórek', 'Cebula', 'Sałata', 'Gruszka', 'Ziemniak', 'Arbuz']\n",
    "\n",
    "assert set(list(shopping_list.keys())) == set(keys)\n",
    "assert set(list(shopping_list.values())) == set(values)\n",
    "\n",
    "i = 0\n",
    "for key in keys:\n",
    "    assert math.isclose(shopping_list[key], values[i])\n",
    "    i+=1"
   ]
  },
  {
   "cell_type": "markdown",
   "id": "d479e72a-57e9-4b41-80d5-468ce6b28820",
   "metadata": {
    "deletable": false,
    "editable": false,
    "nbgrader": {
     "cell_type": "markdown",
     "checksum": "8b1ac81ad61cf1908c7aa82dbd139666",
     "grade": false,
     "grade_id": "cell-e301eb063fb3a6c7",
     "locked": true,
     "schema_version": 3,
     "solution": false,
     "task": false
    },
    "tags": []
   },
   "source": [
    "b) Korzystając z funkcji `print()`  i `format()` oraz z pętli `for` wyświetl listę zakupów tak, aby zaczynała się ona od nagłówka \"Lista zakupów\", pod którym wyświetlone będą po jednym w linii poszczególne elementy listy zakupów, np. \"Jabłko: 5\"."
   ]
  },
  {
   "cell_type": "code",
   "execution_count": 51,
   "id": "55ed0038-bcc3-473a-b201-b2b561eb15fa",
   "metadata": {
    "deletable": false,
    "nbgrader": {
     "cell_type": "code",
     "checksum": "b3739347fb2c087e9fc63e7992a0d242",
     "grade": true,
     "grade_id": "cell-43db8645e8b3f7e9",
     "locked": false,
     "points": 0,
     "schema_version": 3,
     "solution": true,
     "task": false
    },
    "tags": []
   },
   "outputs": [
    {
     "name": "stdout",
     "output_type": "stream",
     "text": [
      "Lista zakupów\n",
      "Jabłko 5\n",
      "Ogórek 2\n",
      "Cebula 3\n",
      "Sałata 1\n",
      "Gruszka 7\n",
      "Ziemniak 15\n",
      "Arbuz 1\n"
     ]
    }
   ],
   "source": [
    "tekst = \"Lista zakupów\"\n",
    "print(tekst)\n",
    "for key, value in shopping_list.items():\n",
    "    print(key, value)"
   ]
  },
  {
   "cell_type": "markdown",
   "id": "608e21ea-c868-4dc8-a724-5156daa643de",
   "metadata": {
    "deletable": false,
    "editable": false,
    "nbgrader": {
     "cell_type": "markdown",
     "checksum": "880fb8288a2793f3f96bb370eed4b77e",
     "grade": false,
     "grade_id": "cell-18561fe3dddc09cf",
     "locked": true,
     "schema_version": 3,
     "solution": false,
     "task": false
    },
    "tags": []
   },
   "source": [
    "c) Zdefiniuj listę zawierającą nazwy owoców z listy zakupów. Następnie korzystając z pętli `for` policz ile sztuk owoców znajduje się na liście zakupów. Wynik zapisz w zmiennej o nazwie `n_fruits`."
   ]
  },
  {
   "cell_type": "code",
   "execution_count": 46,
   "id": "07a67fce-5e42-40e5-99f1-09d013e2acf6",
   "metadata": {
    "deletable": false,
    "nbgrader": {
     "cell_type": "code",
     "checksum": "a9174ba0513704612e7902e3ac0ee956",
     "grade": false,
     "grade_id": "cell-4d993cf4e746c5a0",
     "locked": false,
     "schema_version": 3,
     "solution": true,
     "task": false
    },
    "tags": []
   },
   "outputs": [],
   "source": [
    "n_fruits = 0\n",
    "for key in shopping_list:\n",
    "    if key == 'Jabłko' or key =='Gruszka' or key =='Arbuz':\n",
    "        n_fruits+=shopping_list[key]"
   ]
  },
  {
   "cell_type": "code",
   "execution_count": 47,
   "id": "20693397-6fc5-4099-a375-3d26dbae73ec",
   "metadata": {
    "deletable": false,
    "editable": false,
    "nbgrader": {
     "cell_type": "code",
     "checksum": "a532bf5fe2f9600f4bf37310d5155ac7",
     "grade": true,
     "grade_id": "cell-6833c0b24cd684e7",
     "locked": true,
     "points": 0,
     "schema_version": 3,
     "solution": false,
     "task": false
    },
    "tags": []
   },
   "outputs": [],
   "source": [
    "# Komórka testowa\n",
    "assert math.isclose(n_fruits, 13)"
   ]
  },
  {
   "cell_type": "markdown",
   "id": "393090e9-43a2-4eb0-a635-06e1516de9ac",
   "metadata": {
    "deletable": false,
    "editable": false,
    "nbgrader": {
     "cell_type": "markdown",
     "checksum": "35747dc07be46d77a6c9885e2dc7fb6c",
     "grade": false,
     "grade_id": "cell-ea968dffb87463d3",
     "locked": true,
     "schema_version": 3,
     "solution": false,
     "task": false
    },
    "tags": []
   },
   "source": [
    "## Zadanie 5\n",
    "\n",
    "a) Napisz funkcję `compute_pi_leibniz()`, która aproksymuje wartość liczby $\\pi$ za pomocą schematu Leibnitza danego wzorem:\n",
    "\n",
    "$$ \\pi = 8 \\sum_{k=0}^\\infty \\frac{1}{(4k+1)(4k+3)} $$\n",
    "\n",
    "Funkcja powinna przyjmować pojedynczy argument - `n`, który określa liczbę członów sumy wykorzystanych do aproksymacji."
   ]
  },
  {
   "cell_type": "code",
   "execution_count": 59,
   "id": "45dce819-8aa8-42a8-b3d8-92232bbab23a",
   "metadata": {
    "deletable": false,
    "nbgrader": {
     "cell_type": "code",
     "checksum": "679b4d577a011ff7d6428ffa6fa4c7f4",
     "grade": false,
     "grade_id": "cell-bd2129d2685422c2",
     "locked": false,
     "schema_version": 3,
     "solution": true,
     "task": false
    },
    "tags": []
   },
   "outputs": [],
   "source": [
    "def compute_pi_leibniz(n):\n",
    "    approx_pi = 0\n",
    "    for k in range(n):\n",
    "        approx_pi += 1 / ((4*k + 1) * (4*k + 3))\n",
    "        \n",
    "    approx_pi *= 8\n",
    "    return approx_pi"
   ]
  },
  {
   "cell_type": "code",
   "execution_count": 60,
   "id": "92eb3607-768d-4edc-9c58-028a62fa5576",
   "metadata": {
    "deletable": false,
    "editable": false,
    "nbgrader": {
     "cell_type": "code",
     "checksum": "a3e2c1fa04833bb962e54dec6b348719",
     "grade": true,
     "grade_id": "cell-81ee609b8bb53c45",
     "locked": true,
     "points": 0,
     "schema_version": 3,
     "solution": false,
     "task": false
    },
    "tags": []
   },
   "outputs": [],
   "source": [
    "# Komórka testowa\n",
    "assert math.isclose(compute_pi_leibniz(10), 3.091623806667838)\n",
    "assert math.isclose(compute_pi_leibniz(100), 3.1365926848388144)\n",
    "assert math.isclose(compute_pi_leibniz(1000), 3.141092653621038)"
   ]
  },
  {
   "cell_type": "markdown",
   "id": "3a8fa4c8-7c9d-4616-924c-e660a4af05a2",
   "metadata": {
    "deletable": false,
    "editable": false,
    "nbgrader": {
     "cell_type": "markdown",
     "checksum": "29b3429ee8e4bcb98498088b29341502",
     "grade": false,
     "grade_id": "cell-7c12c9382a3ee90f",
     "locked": true,
     "schema_version": 3,
     "solution": false,
     "task": false
    },
    "tags": []
   },
   "source": [
    "b) Napisz funkcję `compute_pi_euler()`, która aproksymuje wartość liczby $\\pi$ za pomocą schematu Eulera danego wzorem:\n",
    "\n",
    "$$ \\pi = \\sqrt{ 6 \\sum_{k=1}^\\infty \\frac{1}{k^2}} $$\n",
    "\n",
    "Funkcja powinna przyjmować pojedynczy argument - `n`, który określa liczbę członów sumy wykorzystanych do aproksymacji."
   ]
  },
  {
   "cell_type": "code",
   "execution_count": 67,
   "id": "7e2355c7-2983-4f43-90d9-d9a70758705a",
   "metadata": {
    "deletable": false,
    "nbgrader": {
     "cell_type": "code",
     "checksum": "da08b91373432cd3775313c8f061d90b",
     "grade": false,
     "grade_id": "cell-086c981bc43f866e",
     "locked": false,
     "schema_version": 3,
     "solution": true,
     "task": false
    },
    "tags": []
   },
   "outputs": [],
   "source": [
    "def compute_pi_euler(n):\n",
    "    approx_pi = 0\n",
    "    for k in range(1,n):\n",
    "        approx_pi+=1/(k**2)\n",
    "    approx_pi*=6\n",
    "    approx_pi = math.sqrt(approx_pi)\n",
    "    return approx_pi"
   ]
  },
  {
   "cell_type": "code",
   "execution_count": 68,
   "id": "783fa946-05c5-47a6-9443-37c727a6bca1",
   "metadata": {
    "deletable": false,
    "editable": false,
    "nbgrader": {
     "cell_type": "code",
     "checksum": "a7b0f752b1192a351d0c090d743e4c57",
     "grade": true,
     "grade_id": "cell-6b2339650be454f7",
     "locked": true,
     "points": 0,
     "schema_version": 3,
     "solution": false,
     "task": false
    },
    "tags": []
   },
   "outputs": [],
   "source": [
    "# Komórka testowa\n",
    "assert math.isclose(compute_pi_euler(10), 3.0395075895610533)\n",
    "assert math.isclose(compute_pi_euler(100), 3.1319807472443624)\n",
    "assert math.isclose(compute_pi_euler(1000), 3.14063710098594)"
   ]
  },
  {
   "cell_type": "markdown",
   "id": "fc82025a-0e06-47a3-a458-4df8bff542aa",
   "metadata": {
    "deletable": false,
    "editable": false,
    "nbgrader": {
     "cell_type": "markdown",
     "checksum": "8febd3f7f4ee62653a79622c0a0869fd",
     "grade": false,
     "grade_id": "cell-2b75ce2af048de5f",
     "locked": true,
     "schema_version": 3,
     "solution": false,
     "task": false
    },
    "tags": []
   },
   "source": [
    "c) Napisz funkcję `compute_pi()`, która w zależności od przyjętej wartości argumentu `schema` aproksymuje wartość liczby $\\pi$ za pomocą jednej z funkcji przygotowanych w poprzednich podpunktach. Funkcja powinna przyjmować dwa argumenty - `n`, który określa wartość liczbę członów sumy wykorzystanych do aproksymacji oraz `schema`, który przyjmuje wartości \"Leibnitz\" lub \"Euler\" i oktreśla, który schemat aproksymacji ma być wykorzystany w obliczeniach. W funkcji nie należy powielać całego schematu obliczeń, w zależności od wartości parametru `schema` powinna ona wywoływać jedną z napisanych wcześniej funkcji."
   ]
  },
  {
   "cell_type": "code",
   "execution_count": 73,
   "id": "856fd264-63ab-4841-8b04-b86efae5b710",
   "metadata": {
    "deletable": false,
    "nbgrader": {
     "cell_type": "code",
     "checksum": "7013d00cbc83df89bc7569546769b893",
     "grade": false,
     "grade_id": "cell-ca6cbb4e443ea7fa",
     "locked": false,
     "schema_version": 3,
     "solution": true,
     "task": false
    },
    "tags": []
   },
   "outputs": [],
   "source": [
    "def compute_pi(n,schema):\n",
    "    if schema == 'Leibniz':\n",
    "        return compute_pi_leibniz(n)\n",
    "    if schema == 'Euler':\n",
    "        return compute_pi_euler(n)\n",
    "    "
   ]
  },
  {
   "cell_type": "code",
   "execution_count": 74,
   "id": "16de4f24-22cc-43a0-a930-c9fab49b3da8",
   "metadata": {
    "deletable": false,
    "editable": false,
    "nbgrader": {
     "cell_type": "code",
     "checksum": "09819a4d39951c57d6443d406215603e",
     "grade": true,
     "grade_id": "cell-4b6b29dfa0e33bbe",
     "locked": true,
     "points": 0,
     "schema_version": 3,
     "solution": false,
     "task": false
    },
    "tags": []
   },
   "outputs": [],
   "source": [
    "# Komórka testowa\n",
    "assert math.isclose(compute_pi(10, \"Leibniz\"), 3.091623806667838)\n",
    "assert math.isclose(compute_pi(100, \"Leibniz\"), 3.1365926848388144)\n",
    "assert math.isclose(compute_pi(1000, \"Leibniz\"), 3.141092653621038)\n",
    "\n",
    "assert math.isclose(compute_pi(10, \"Euler\"), 3.0395075895610533)\n",
    "assert math.isclose(compute_pi(100, \"Euler\"), 3.1319807472443624)\n",
    "assert math.isclose(compute_pi(1000, \"Euler\"), 3.14063710098594)"
   ]
  },
  {
   "cell_type": "markdown",
   "id": "6383bc49-36e9-4e76-9f2c-8b0f0806cd46",
   "metadata": {
    "deletable": false,
    "editable": false,
    "nbgrader": {
     "cell_type": "markdown",
     "checksum": "9b049beebeb597ec6f80ddd862ea4509",
     "grade": false,
     "grade_id": "cell-0b60488497b1d6a0",
     "locked": true,
     "schema_version": 3,
     "solution": false,
     "task": false
    },
    "tags": []
   },
   "source": [
    "d) Przetestuj przygotowane w poprzednich podpunktach funkcje na kilku wybranych przez siebie wartościach argumentów `n` i `schema`. Wyświetl wyniki obliczeń korzystając z funkcji `print()` i `format()`."
   ]
  },
  {
   "cell_type": "code",
   "execution_count": 76,
   "id": "e15d2d85-fe90-40de-9255-dea021ef2fc6",
   "metadata": {
    "deletable": false,
    "nbgrader": {
     "cell_type": "code",
     "checksum": "50c5a009c913337e0e196c1feceae1cb",
     "grade": true,
     "grade_id": "cell-5ed0f0c19f30f7c0",
     "locked": false,
     "points": 0,
     "schema_version": 3,
     "solution": true,
     "task": false
    },
    "tags": []
   },
   "outputs": [
    {
     "name": "stdout",
     "output_type": "stream",
     "text": [
      "3.1365926848388144\n",
      "3.1173247790439818\n"
     ]
    }
   ],
   "source": [
    "tekst = compute_pi(100,\"Leibniz\")\n",
    "print(tekst)\n",
    "\n",
    "tekst1 = compute_pi(40,\"Euler\")\n",
    "print(tekst1)"
   ]
  },
  {
   "cell_type": "markdown",
   "id": "c83a6c82-7e92-43f4-803b-66b0be1981ba",
   "metadata": {
    "deletable": false,
    "editable": false,
    "nbgrader": {
     "cell_type": "markdown",
     "checksum": "ee8503ba21b9e1e115d2bb91452cf76d",
     "grade": false,
     "grade_id": "cell-87b5f47ae64526dc",
     "locked": true,
     "schema_version": 3,
     "solution": false,
     "task": false
    },
    "tags": []
   },
   "source": [
    "## Zadanie 6\n",
    "\n",
    "Aproksymacja pierwiastka $x$ za pomocą algorytmu bisekcji rozpoczyna się od określenia dolnej i górnej granicy przedziału $[a, b]$, gdzie $a=0$, a $b=max(1, x)$. Następnie sprawdzamy, czy środek wyznaczonego przedziału $d$ aproksymuje wartość pierwiastka $x$ z akceptowalną dokładnością $\\epsilon$. Jeżeli $|d^2 - x| <= \\epsilon$ to przyjmujemy, że $d$ jest akceptowalną aproksymacją pierwiastka $x$. W przeciwnym przypadku aktualizujemy granice przedziału i powtarzamy procedurę. Jeżeli $d^2 > x$ to aktualizujmy górną granicę przedniału $b=d$, a jeżeli $d^2 < x$ to aktualizujmy dolną granicę przedniału $a=d$.\n",
    "\n",
    "a) Napisz funkcję `bisection_root_search()`, która aproksymuje wartość pierwiastka liczby dodatniej za pomocą metody bisekcji. Funkcja powinna przyjmować dwa argumenty - `x`, który określa wartość liczby oraz `epsilon`, który określa dokładność aproksymacji i przyjmuje domyślnie wartość 0.001."
   ]
  },
  {
   "cell_type": "code",
   "execution_count": 77,
   "id": "ddc55462-220a-4d22-bcb1-9e5b60e22c15",
   "metadata": {
    "deletable": false,
    "nbgrader": {
     "cell_type": "code",
     "checksum": "6fb78f0ce3233beac460c09309a2239b",
     "grade": false,
     "grade_id": "cell-41f56c1e315976dc",
     "locked": false,
     "schema_version": 3,
     "solution": true,
     "task": false
    },
    "tags": []
   },
   "outputs": [],
   "source": [
    "def bisection_root_search(x, epsilon=0.001):\n",
    "    a = 0\n",
    "    b = max(1, x)\n",
    "    d = (a + b) / 2\n",
    "    while abs(d**2 - x) > epsilon:\n",
    "        if d**2 > x:\n",
    "            b = d\n",
    "        else:\n",
    "            a = d\n",
    "            d = (a + b) / 2\n",
    "    return d\n",
    "    \n"
   ]
  },
  {
   "cell_type": "code",
   "execution_count": null,
   "id": "3f71d3c6-e4e2-4e7d-bedb-e3c5b6c03aea",
   "metadata": {
    "deletable": false,
    "editable": false,
    "nbgrader": {
     "cell_type": "code",
     "checksum": "4be60888ca1456a0dfc264f0fc61281c",
     "grade": true,
     "grade_id": "cell-32c286c28e0f726b",
     "locked": true,
     "points": 0,
     "schema_version": 3,
     "solution": false,
     "task": false
    },
    "tags": []
   },
   "outputs": [],
   "source": [
    "# Komórka testowa\n",
    "assert math.isclose(bisection_root_search(10), 3.1622314453125)\n",
    "assert math.isclose(bisection_root_search(10, 0.01), 3.16162109375)\n",
    "assert math.isclose(bisection_root_search(120), 10.954456329345703)\n",
    "assert math.isclose(bisection_root_search(120, 0.1), 10.95703125)"
   ]
  },
  {
   "cell_type": "markdown",
   "id": "a0421a5a-092f-41b3-8a27-aab1fa61d6f1",
   "metadata": {
    "deletable": false,
    "editable": false,
    "nbgrader": {
     "cell_type": "markdown",
     "checksum": "bc7acba9ad96b2a7a7298199c02cb8b1",
     "grade": false,
     "grade_id": "cell-d6eb0b3ca276abfb",
     "locked": true,
     "schema_version": 3,
     "solution": false,
     "task": false
    },
    "tags": []
   },
   "source": [
    "b) Wykorzystaj funkcję przygotowaną w poprzednim podpunkcie do aproksymacji pierwiastka z 25 i 125. Korzystając z funkcji `print()` i `format()` wyświetl odpowiedź \"Pierwiastek z X wynosi w przybiżeniu Y.\" Podaj aproksymowane wartości pierwiastków z dokładnością do 4 miejsc po przecinku."
   ]
  },
  {
   "cell_type": "code",
   "execution_count": null,
   "id": "55862cf9-fdc8-4572-90c0-ad96fd07df00",
   "metadata": {
    "deletable": false,
    "nbgrader": {
     "cell_type": "code",
     "checksum": "072abbececf21c98334482702611b7e0",
     "grade": true,
     "grade_id": "cell-f96ef65db9e2db7b",
     "locked": false,
     "points": 0,
     "schema_version": 3,
     "solution": true,
     "task": false
    },
    "tags": []
   },
   "outputs": [],
   "source": [
    "sqrt_25 = bisection_root_search(25)\n",
    "sqrt_125 = bisection_root_search(125)\n",
    "print(\"Pierwiastek z 25 wynosi w przybliżeniu {:.4f}.\".format(sqrt_25))\n",
    "print(\"Pierwiastek z 125 wynosi w przybliżeniu {:.4f}.\".format(sqrt_125))"
   ]
  },
  {
   "cell_type": "markdown",
   "id": "2972d2cc-a2a5-4f77-94c3-6f4f4e9d7c41",
   "metadata": {
    "deletable": false,
    "editable": false,
    "nbgrader": {
     "cell_type": "markdown",
     "checksum": "c52481041c496f7162d5df6e3f9cae46",
     "grade": false,
     "grade_id": "cell-fd16d43db7e7ca6f",
     "locked": true,
     "schema_version": 3,
     "solution": false,
     "task": false
    },
    "tags": []
   },
   "source": [
    "## Zadanie 7\n",
    "\n",
    "Problem Collatza to nierozstrzygnięty do dziś problem matematyczny.\n",
    "\n",
    "Rozpoczynając od dowolnej dodatniej liczby całkowitej $c_0$ modyfikujemy iteracyjnie jej wartość zgodnie z poniższym wzorem:\n",
    "\n",
    "$$ c_{n+1} = \\begin{cases} \\frac{1}{2} c_n \\text{ jeżeli } c_n \\text{ jest parzysta} \\\\ 3c_n + 1 \\text{ jeżeli } c_n \\text{ jest nieparzysta} \\\\ \\end{cases} $$\n",
    "\n",
    "Przedmiotem problemu jest przypuszczenie, że niezależnie od jakiej liczby wystartujemy, w końcu dojdziemy do liczby 1.\n",
    "\n",
    "a) Napisz funkcję `collatz()`, która przyjmuje dwa argumenty (`x` oraz `max_steps`) i podaje informację w ilu krokach `x` zbiega do 1 lub informację, że `x` nie zbiega do 1 w `max_steps` krokach."
   ]
  },
  {
   "cell_type": "code",
   "execution_count": null,
   "id": "7312bece-f499-4903-8590-1bffb142f410",
   "metadata": {
    "deletable": false,
    "nbgrader": {
     "cell_type": "code",
     "checksum": "be0c25b0ba9c8ec2942829a779b94e5b",
     "grade": true,
     "grade_id": "cell-cca4de3cd8d17d92",
     "locked": false,
     "points": 0,
     "schema_version": 3,
     "solution": true,
     "task": false
    },
    "tags": []
   },
   "outputs": [],
   "source": [
    "def collatz(x, max_steps):\n",
    "    steps = 0\n",
    "    while x != 1 and steps < max_steps:\n",
    "        if x % 2 == 0:\n",
    "            x = x // 2\n",
    "        else:\n",
    "            x = 3 * x + 1\n",
    "            steps += 1\n",
    "        if x == 1:\n",
    "            print(f\"Liczba zbiega do 1 w {steps} krokach.\")\n",
    "        else:\n",
    "            print(f\"Liczba nie zbiega do 1 w {max_steps}\n",
    "krokach.\")"
   ]
  },
  {
   "cell_type": "markdown",
   "id": "9fae9b1f-6bba-4c41-86b4-b669b9906d3f",
   "metadata": {
    "deletable": false,
    "editable": false,
    "nbgrader": {
     "cell_type": "markdown",
     "checksum": "086e10d376b53b3ffce0522ab4272dae",
     "grade": false,
     "grade_id": "cell-7ff61690b6f1e7c7",
     "locked": true,
     "schema_version": 3,
     "solution": false,
     "task": false
    },
    "tags": []
   },
   "source": [
    "b) Przetestuj przygotowaną w poprzednim funkcję na kilku wybranych przez siebie wartościach argumentów `x` i `max_steps`."
   ]
  },
  {
   "cell_type": "code",
   "execution_count": null,
   "id": "55305f91-a3ae-4006-abfb-b754039f4703",
   "metadata": {
    "deletable": false,
    "nbgrader": {
     "cell_type": "code",
     "checksum": "b5de227d833708d264f3826e499a7309",
     "grade": true,
     "grade_id": "cell-d04a3ce2e3ee03c6",
     "locked": false,
     "points": 0,
     "schema_version": 3,
     "solution": true,
     "task": false
    },
    "tags": []
   },
   "outputs": [],
   "source": [
    "teskt = collatz(3,2)\n",
    "print(tekst)"
   ]
  },
  {
   "cell_type": "code",
   "execution_count": null,
   "id": "fee2d4f7",
   "metadata": {},
   "outputs": [],
   "source": []
  },
  {
   "cell_type": "code",
   "execution_count": null,
   "id": "0486ab8f",
   "metadata": {},
   "outputs": [],
   "source": []
  }
 ],
 "metadata": {
  "kernelspec": {
   "display_name": "Python 3 (ipykernel)",
   "language": "python",
   "name": "python3"
  },
  "language_info": {
   "codemirror_mode": {
    "name": "ipython",
    "version": 3
   },
   "file_extension": ".py",
   "mimetype": "text/x-python",
   "name": "python",
   "nbconvert_exporter": "python",
   "pygments_lexer": "ipython3",
   "version": "3.11.8"
  }
 },
 "nbformat": 4,
 "nbformat_minor": 5
}
